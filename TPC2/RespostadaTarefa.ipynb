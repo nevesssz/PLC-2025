{
 "cells": [
  {
   "cell_type": "markdown",
   "id": "f1b6a239",
   "metadata": {},
   "source": []
  },
  {
   "cell_type": "code",
   "execution_count": 1,
   "id": "a4415588",
   "metadata": {},
   "outputs": [
   ],
   "source": [
    "import re \n",
    "\n",
    "with open(\"texto_teste.txt\", \"r\", encoding=\"utf-8\") as f:\n",
    "    texto_teste = f.read()\n",
    "\n",
    "cardinal = re.compile(r\"(#{1,3}) (.+)\")\n",
    "bold = re.compile(r\"(\\*\\*)(.+)(\\*\\*)\")\n",
    "italic = re.compile(r\"(\\*)(.+)(\\*)\")\n",
    "link = re.compile(r\"[^!]\\[([^\\]]*)\\]\\((.*?)\\)\")\n",
    "imagem = re.compile(r\"!\\[([^\\]]*)\\]\\((.*?)\\)\")\n",
    "lista =re.compile(r\"^\\s*(\\d+)\\.\\s+(.+)$\", re.MULTILINE)\n",
    "\n",
    "k = cardinal.search(texto_teste)\n",
    "if k:\n",
    "    tamanho = len(k.group(1))\n",
    "    texto_teste = re.sub(cardinal, rf\"<h{tamanho}>\\2</h{tamanho}>\", texto_teste)\n",
    "\n",
    "texto_teste = re.sub(bold,r\"<b>\\2</b>\", texto_teste)\n",
    "texto_teste = re.sub(italic, r\"<i>\\2</i>\", texto_teste)\n",
    "texto_teste = re.sub(link,r'<a href=\"\\2\">\\1</a>', texto_teste)\n",
    "texto_teste = re.sub(imagem, r'<img src=\"\\2\" alt=\"\\1\"/>', texto_teste)\n",
    "\n",
    "itens_lista = []\n",
    "for match in lista.finditer(texto_teste):  \n",
    "    conteudo = match.group(2)\n",
    "    itens_lista.append(f\"<li>{conteudo}</li>\")\n",
    "\n",
    "if itens_lista:\n",
    "    html_lista = \"\\n<ol>\\n\" + \"\\n\".join(itens_lista) + \"\\n</ol>\\n\"\n",
    "    bloco_lista = re.compile(r\"(?:^\\s*\\d+\\.\\s.*$(?:\\n|$))+\", re.MULTILINE)\n",
    "    texto_teste = bloco_lista.sub(html_lista, texto_teste)\n",
    "\n",
    "print(texto_teste)"
   ]
  }
 ],
 "metadata": {
  "kernelspec": {
   "display_name": "Python 3",
   "language": "python",
   "name": "python3"
  },
  "language_info": {
   "codemirror_mode": {
    "name": "ipython",
    "version": 3
   },
   "file_extension": ".py",
   "mimetype": "text/x-python",
   "name": "python",
   "nbconvert_exporter": "python",
   "pygments_lexer": "ipython3",
   "version": "3.13.7"
  }
 },
 "nbformat": 4,
 "nbformat_minor": 5
}
