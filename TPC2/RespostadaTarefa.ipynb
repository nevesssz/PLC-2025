{
 "cells": [
  {
   "cell_type": "markdown",
   "id": "f1b6a239",
   "metadata": {},
   "source": []
  },
  {
   "cell_type": "code",
   "execution_count": 1,
   "id": "a4415588",
   "metadata": {},
   "outputs": [
    {
     "ename": "FileNotFoundError",
     "evalue": "[Errno 2] No such file or directory: 'texto_teste.txt'",
     "output_type": "error",
     "traceback": [
      "\u001b[31m---------------------------------------------------------------------------\u001b[39m",
      "\u001b[31mFileNotFoundError\u001b[39m                         Traceback (most recent call last)",
      "\u001b[36mCell\u001b[39m\u001b[36m \u001b[39m\u001b[32mIn[1]\u001b[39m\u001b[32m, line 3\u001b[39m\n\u001b[32m      1\u001b[39m \u001b[38;5;28;01mimport\u001b[39;00m\u001b[38;5;250m \u001b[39m\u001b[34;01mre\u001b[39;00m \n\u001b[32m----> \u001b[39m\u001b[32m3\u001b[39m \u001b[38;5;28;01mwith\u001b[39;00m \u001b[38;5;28;43mopen\u001b[39;49m\u001b[43m(\u001b[49m\u001b[33;43m\"\u001b[39;49m\u001b[33;43mtexto_teste.txt\u001b[39;49m\u001b[33;43m\"\u001b[39;49m\u001b[43m,\u001b[49m\u001b[43m \u001b[49m\u001b[33;43m\"\u001b[39;49m\u001b[33;43mr\u001b[39;49m\u001b[33;43m\"\u001b[39;49m\u001b[43m,\u001b[49m\u001b[43m \u001b[49m\u001b[43mencoding\u001b[49m\u001b[43m=\u001b[49m\u001b[33;43m\"\u001b[39;49m\u001b[33;43mutf-8\u001b[39;49m\u001b[33;43m\"\u001b[39;49m\u001b[43m)\u001b[49m \u001b[38;5;28;01mas\u001b[39;00m f:\n\u001b[32m      4\u001b[39m     texto_teste = f.read()\n\u001b[32m      6\u001b[39m cardinal = re.compile(\u001b[33mr\u001b[39m\u001b[33m\"\u001b[39m\u001b[33m(#\u001b[39m\u001b[33m{\u001b[39m\u001b[33m1,3}) (.+)\u001b[39m\u001b[33m\"\u001b[39m)\n",
      "\u001b[36mFile \u001b[39m\u001b[32m~\\AppData\\Roaming\\Python\\Python313\\site-packages\\IPython\\core\\interactiveshell.py:343\u001b[39m, in \u001b[36m_modified_open\u001b[39m\u001b[34m(file, *args, **kwargs)\u001b[39m\n\u001b[32m    336\u001b[39m \u001b[38;5;28;01mif\u001b[39;00m file \u001b[38;5;129;01min\u001b[39;00m {\u001b[32m0\u001b[39m, \u001b[32m1\u001b[39m, \u001b[32m2\u001b[39m}:\n\u001b[32m    337\u001b[39m     \u001b[38;5;28;01mraise\u001b[39;00m \u001b[38;5;167;01mValueError\u001b[39;00m(\n\u001b[32m    338\u001b[39m         \u001b[33mf\u001b[39m\u001b[33m\"\u001b[39m\u001b[33mIPython won\u001b[39m\u001b[33m'\u001b[39m\u001b[33mt let you open fd=\u001b[39m\u001b[38;5;132;01m{\u001b[39;00mfile\u001b[38;5;132;01m}\u001b[39;00m\u001b[33m by default \u001b[39m\u001b[33m\"\u001b[39m\n\u001b[32m    339\u001b[39m         \u001b[33m\"\u001b[39m\u001b[33mas it is likely to crash IPython. If you know what you are doing, \u001b[39m\u001b[33m\"\u001b[39m\n\u001b[32m    340\u001b[39m         \u001b[33m\"\u001b[39m\u001b[33myou can use builtins\u001b[39m\u001b[33m'\u001b[39m\u001b[33m open.\u001b[39m\u001b[33m\"\u001b[39m\n\u001b[32m    341\u001b[39m     )\n\u001b[32m--> \u001b[39m\u001b[32m343\u001b[39m \u001b[38;5;28;01mreturn\u001b[39;00m \u001b[43mio_open\u001b[49m\u001b[43m(\u001b[49m\u001b[43mfile\u001b[49m\u001b[43m,\u001b[49m\u001b[43m \u001b[49m\u001b[43m*\u001b[49m\u001b[43margs\u001b[49m\u001b[43m,\u001b[49m\u001b[43m \u001b[49m\u001b[43m*\u001b[49m\u001b[43m*\u001b[49m\u001b[43mkwargs\u001b[49m\u001b[43m)\u001b[49m\n",
      "\u001b[31mFileNotFoundError\u001b[39m: [Errno 2] No such file or directory: 'texto_teste.txt'"
     ]
    }
   ],
   "source": [
    "import re \n",
    "\n",
    "with open(\".\texto_teste.txt\", \"r\", encoding=\"utf-8\") as f:\n",
    "    texto_teste = f.read()\n",
    "\n",
    "cardinal = re.compile(r\"(#{1,3}) (.+)\")\n",
    "bold = re.compile(r\"(\\*\\*)(.+)(\\*\\*)\")\n",
    "italic = re.compile(r\"(\\*)(.+)(\\*)\")\n",
    "link = re.compile(r\"[^!]\\[([^\\]]*)\\]\\((.*?)\\)\")\n",
    "imagem = re.compile(r\"!\\[([^\\]]*)\\]\\((.*?)\\)\")\n",
    "lista =re.compile(r\"^\\s*(\\d+)\\.\\s+(.+)$\", re.MULTILINE)\n",
    "\n",
    "k = cardinal.search(texto_teste)\n",
    "if k:\n",
    "    tamanho = len(k.group(1))\n",
    "    texto_teste = re.sub(cardinal, rf\"<h{tamanho}>\\2</h{tamanho}>\", texto_teste)\n",
    "\n",
    "texto_teste = re.sub(bold,r\"<b>\\2</b>\", texto_teste)\n",
    "texto_teste = re.sub(italic, r\"<i>\\2</i>\", texto_teste)\n",
    "texto_teste = re.sub(link,r'<a href=\"\\2\">\\1</a>', texto_teste)\n",
    "texto_teste = re.sub(imagem, r'<img src=\"\\2\" alt=\"\\1\"/>', texto_teste)\n",
    "\n",
    "itens_lista = []\n",
    "for match in lista.finditer(texto_teste):  \n",
    "    conteudo = match.group(2)\n",
    "    itens_lista.append(f\"<li>{conteudo}</li>\")\n",
    "\n",
    "if itens_lista:\n",
    "    html_lista = \"\\n<ol>\\n\" + \"\\n\".join(itens_lista) + \"\\n</ol>\\n\"\n",
    "    bloco_lista = re.compile(r\"(?:^\\s*\\d+\\.\\s.*$(?:\\n|$))+\", re.MULTILINE)\n",
    "    texto_teste = bloco_lista.sub(html_lista, texto_teste)\n",
    "\n",
    "print(texto_teste)"
   ]
  }
 ],
 "metadata": {
  "kernelspec": {
   "display_name": "Python 3",
   "language": "python",
   "name": "python3"
  },
  "language_info": {
   "codemirror_mode": {
    "name": "ipython",
    "version": 3
   },
   "file_extension": ".py",
   "mimetype": "text/x-python",
   "name": "python",
   "nbconvert_exporter": "python",
   "pygments_lexer": "ipython3",
   "version": "3.13.7"
  }
 },
 "nbformat": 4,
 "nbformat_minor": 5
}
